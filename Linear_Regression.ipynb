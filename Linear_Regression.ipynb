{
 "cells": [
  {
   "cell_type": "code",
   "execution_count": 31,
   "id": "b52b8ab2",
   "metadata": {},
   "outputs": [
    {
     "name": "stdout",
     "output_type": "stream",
     "text": [
      "<class 'pandas.core.frame.DataFrame'>\n",
      "RangeIndex: 62118 entries, 0 to 62117\n",
      "Data columns (total 14 columns):\n",
      " #   Column                    Non-Null Count  Dtype  \n",
      "---  ------                    --------------  -----  \n",
      " 0   peak_position             62118 non-null  int64  \n",
      " 1   danceability              62118 non-null  float64\n",
      " 2   energy                    62118 non-null  float64\n",
      " 3   key                       62118 non-null  float64\n",
      " 4   loudness                  62118 non-null  float64\n",
      " 5   mode                      62118 non-null  float64\n",
      " 6   speechiness               62118 non-null  float64\n",
      " 7   acousticness              62118 non-null  float64\n",
      " 8   instrumentalness          62118 non-null  float64\n",
      " 9   liveness                  62118 non-null  float64\n",
      " 10  valence                   62118 non-null  float64\n",
      " 11  tempo                     62118 non-null  float64\n",
      " 12  time_signature            62118 non-null  float64\n",
      " 13  spotify_track_popularity  62118 non-null  float64\n",
      "dtypes: float64(13), int64(1)\n",
      "memory usage: 6.6 MB\n"
     ]
    }
   ],
   "source": [
    "import pandas as pd\n",
    "\n",
    "df = pd.read_csv('song_after_2010.csv')\n",
    "\n",
    "df = df.drop(\"url\",1)\n",
    "df = df.drop(\"week_id\",1)\n",
    "df = df.drop(\"instance\",1)\n",
    "df = df.drop(\"previous_week_position\",1)\n",
    "df = df.drop(\"weeks_on_chart\",1)\n",
    "df = df.drop(\"spotify_genre\",1)\n",
    "df = df.drop(\"spotify_track_id\",1)\n",
    "df = df.drop(\"spotify_track_preview_url\",1)\n",
    "df = df.drop(\"spotify_track_duration_ms\",1)\n",
    "df = df.drop(\"spotify_track_explicit\",1)\n",
    "df = df.drop(\"spotify_track_album\",1)\n",
    "df = df.drop(\"week_position\",1)\n",
    "df = df.drop(\"performer\",1)\n",
    "df = df.drop(\"song\",1)\n",
    "df = df.drop(\"song_id\",1)\n",
    "df = df.iloc[: , 1:]\n",
    "\n",
    "df = df.fillna(0)\n",
    "df.info()\n"
   ]
  },
  {
   "cell_type": "code",
   "execution_count": 33,
   "id": "d81f7e6f",
   "metadata": {},
   "outputs": [],
   "source": [
    "from sklearn.model_selection import train_test_split\n",
    "\n",
    "X = df.drop('peak_position', axis = 1)\n",
    "y = df.peak_position\n",
    "\n",
    "X_train, X_test, y_train, y_test = train_test_split(X, y, test_size = 0.1, random_state = 1234)"
   ]
  },
  {
   "cell_type": "code",
   "execution_count": 34,
   "id": "b0922d09",
   "metadata": {},
   "outputs": [],
   "source": [
    "from sklearn.linear_model import LinearRegression\n",
    "\n",
    "model_lreg = LinearRegression()\n",
    "model_lreg.fit(X_train, y_train)\n",
    "\n",
    "y_pred_lreg = model_lreg.predict(X_test)\n"
   ]
  },
  {
   "cell_type": "code",
   "execution_count": 35,
   "id": "d9769ccb",
   "metadata": {},
   "outputs": [
    {
     "name": "stdout",
     "output_type": "stream",
     "text": [
      "[49.65436227 35.42552854 44.3182764  ... 24.23803155 39.42733366\n",
      " 37.47434044]\n"
     ]
    }
   ],
   "source": [
    "print(y_pred_lreg)"
   ]
  },
  {
   "cell_type": "code",
   "execution_count": 38,
   "id": "ff492816",
   "metadata": {},
   "outputs": [
    {
     "data": {
      "text/plain": [
       "27.82243700620487"
      ]
     },
     "execution_count": 38,
     "metadata": {},
     "output_type": "execute_result"
    }
   ],
   "source": [
    "import numpy as np\n",
    "\n",
    "np.sqrt(np.mean((y_pred_lreg-y_test)**2))"
   ]
  }
 ],
 "metadata": {
  "kernelspec": {
   "display_name": "Python 3 (ipykernel)",
   "language": "python",
   "name": "python3"
  },
  "language_info": {
   "codemirror_mode": {
    "name": "ipython",
    "version": 3
   },
   "file_extension": ".py",
   "mimetype": "text/x-python",
   "name": "python",
   "nbconvert_exporter": "python",
   "pygments_lexer": "ipython3",
   "version": "3.8.12"
  }
 },
 "nbformat": 4,
 "nbformat_minor": 5
}
