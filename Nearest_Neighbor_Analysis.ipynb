{
 "cells": [
  {
   "cell_type": "code",
   "execution_count": 12,
   "id": "000c9eb4",
   "metadata": {},
   "outputs": [
    {
     "name": "stdout",
     "output_type": "stream",
     "text": [
      "(0.9126416739319965, array([\"['melodic rap', 'rap', 'trap']\",\n",
      "       \"['dance pop', 'edm', 'electro house', 'house', 'pop', 'progressive house', 'tropical house', 'uk dance']\",\n",
      "       \"['electropop', 'pop', 'tropical house']\", ...,\n",
      "       \"['dance pop', 'hip hop', 'miami hip hop', 'pop', 'pop rap', 'rap', 'southern hip hop', 'trap']\",\n",
      "       \"['dance pop', 'pop', 'post-teen pop']\",\n",
      "       \"['complextro', 'dance pop', 'edm', 'electro house', 'german techno', 'pop', 'post-teen pop', 'tropical house']\"],\n",
      "      dtype=object))\n"
     ]
    }
   ],
   "source": [
    "import pandas as pd\n",
    "from sklearn.model_selection import train_test_split\n",
    "from sklearn.neighbors import KNeighborsClassifier\n",
    "import numpy as np\n",
    "\n",
    "df = pd.read_csv('songs_after_2010_only_audio_features_genre.csv')\n",
    "\n",
    "df = df.iloc[: , 1:]\n",
    "\n",
    "df = df.fillna(0)\n",
    "\n",
    "def nearest_neighbor(data):\n",
    "    X = data.drop('spotify_genre', axis = 1)\n",
    "    y = data.spotify_genre\n",
    "\n",
    "    X_train, X_test, y_train, y_test = train_test_split(X, y, test_size = 0.1)\n",
    "    (X_train.shape, X_test.shape)\n",
    "\n",
    "    model = KNeighborsClassifier(n_neighbors = 9)\n",
    "    model.fit(X_train, y_train)\n",
    "\n",
    "    y_pred = model.predict(X_test)\n",
    "\n",
    "    accuracy = np.mean(np.equal(y_test, y_pred))\n",
    "    return accuracy, y_pred\n",
    "    \n",
    "print(nearest_neighbor(df))"
   ]
  }
 ],
 "metadata": {
  "kernelspec": {
   "display_name": "Python 3 (ipykernel)",
   "language": "python",
   "name": "python3"
  },
  "language_info": {
   "codemirror_mode": {
    "name": "ipython",
    "version": 3
   },
   "file_extension": ".py",
   "mimetype": "text/x-python",
   "name": "python",
   "nbconvert_exporter": "python",
   "pygments_lexer": "ipython3",
   "version": "3.8.12"
  }
 },
 "nbformat": 4,
 "nbformat_minor": 5
}
